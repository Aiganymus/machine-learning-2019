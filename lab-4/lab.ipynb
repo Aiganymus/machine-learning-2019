{
 "cells": [
  {
   "cell_type": "code",
   "execution_count": 37,
   "metadata": {},
   "outputs": [],
   "source": [
    "import numpy as np\n",
    "import matplotlib.pyplot as plt"
   ]
  },
  {
   "cell_type": "code",
   "execution_count": 38,
   "metadata": {},
   "outputs": [],
   "source": [
    "x0, x1, y = np.loadtxt(\"ex2data1.txt\", dtype=np.float32, comments=\"#\", delimiter=\",\", unpack=True)\n",
    "m = len(y)\n",
    "theta = np.zeros(3, dtype=np.float32)\n",
    "iterations = 1500\n",
    "alpha = 0.01"
   ]
  },
  {
   "cell_type": "code",
   "execution_count": 39,
   "metadata": {},
   "outputs": [],
   "source": [
    "x0 = [[(i-np.amin(x0))/(np.amax(x0)-np.amin(x0))] for i in x0]\n",
    "x1 = [[(i-np.amin(x1))/(np.amax(x1)-np.amin(x1))] for i in x1]\n",
    "X = np.concatenate(([[1] for _ in range(m)], x0, x1), axis=1)"
   ]
  },
  {
   "cell_type": "code",
   "execution_count": 40,
   "metadata": {},
   "outputs": [],
   "source": [
    "def cost_function(X, y, theta):\n",
    "    h = 1/(1 + np.exp(-X.dot(theta)))\n",
    "    cost_1 = np.log(h)\n",
    "    cost_2 = np.array([np.log(1-i) for i in h])\n",
    "    summ = y.dot(cost_1) + np.array([1-i for i in y]).dot(cost_2)\n",
    "    return -summ/m"
   ]
  },
  {
   "cell_type": "code",
   "execution_count": 41,
   "metadata": {},
   "outputs": [
    {
     "name": "stdout",
     "output_type": "stream",
     "text": [
      "0.6931471805599452\n"
     ]
    }
   ],
   "source": [
    "print(cost_function(X, y, theta))"
   ]
  },
  {
   "cell_type": "code",
   "execution_count": 42,
   "metadata": {},
   "outputs": [],
   "source": [
    "j_history = np.array([0 for _ in range(iterations)], dtype=np.float32)\n",
    "for i in range(iterations):    \n",
    "    temp = [0 for _ in range(3)]\n",
    "    for j in range(3):\n",
    "        h = 1/(1 + np.exp(-X.dot(theta)))\n",
    "        temp[j] = theta[j] - (alpha/m) * np.sum((h-y) * np.array(X[:, j]))\n",
    "    theta = temp\n",
    "    j_history[i] = cost_function(X, y, theta)"
   ]
  },
  {
   "cell_type": "code",
   "execution_count": 43,
   "metadata": {},
   "outputs": [
    {
     "name": "stdout",
     "output_type": "stream",
     "text": [
      "[-0.26924304545231487, 0.8960827348156859, 0.7665344950391781]\n"
     ]
    }
   ],
   "source": [
    "print(theta)"
   ]
  },
  {
   "cell_type": "code",
   "execution_count": 44,
   "metadata": {},
   "outputs": [
    {
     "data": {
      "image/png": "[encoded data removed]",
      "text/plain": [
       "<Figure size 432x288 with 1 Axes>"
      ]
     },
     "metadata": {
      "needs_background": "light"
     },
     "output_type": "display_data"
    }
   ],
   "source": [
    "plt.plot(np.arange(0, iterations), j_history)\n",
    "plt.ylabel('J (cost function)')\n",
    "plt.xlabel('Iterations')\n",
    "plt.show()"
   ]
  },
  {
   "cell_type": "code",
   "execution_count": 45,
   "metadata": {},
   "outputs": [
    {
     "name": "stdout",
     "output_type": "stream",
     "text": [
      "1.0\n"
     ]
    }
   ],
   "source": [
    "ex = np.array([1, (45-np.amin(x0))/(np.amax(x0)-np.amin(x0)), (85-np.amin(x1))/(np.amax(x1)-np.amin(x1))])\n",
    "print(1/(1 + np.exp(-ex.dot(theta))))"
   ]
  },
  {
   "cell_type": "code",
   "execution_count": null,
   "metadata": {},
   "outputs": [],
   "source": []
  }
 ],
 "metadata": {
  "kernelspec": {
   "display_name": "Python 3",
   "language": "python",
   "name": "python3"
  },
  "language_info": {
   "codemirror_mode": {
    "name": "ipython",
    "version": 3
   },
   "file_extension": ".py",
   "mimetype": "text/x-python",
   "name": "python",
   "nbconvert_exporter": "python",
   "pygments_lexer": "ipython3",
   "version": "3.7.3"
  }
 },
 "nbformat": 4,
 "nbformat_minor": 2
}
