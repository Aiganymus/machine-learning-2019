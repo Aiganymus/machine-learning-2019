{
 "cells": [
  {
   "cell_type": "code",
   "execution_count": 1,
   "metadata": {},
   "outputs": [],
   "source": [
    "import numpy as np\n",
    "import matplotlib.pyplot as plt\n",
    "import pandas as pd"
   ]
  },
  {
   "cell_type": "code",
   "execution_count": 2,
   "metadata": {},
   "outputs": [],
   "source": [
    "x0, x1, y = np.loadtxt(\"ex2data2.txt\", dtype=np.float32, comments=\"#\", delimiter=\",\", unpack=True)"
   ]
  },
  {
   "cell_type": "code",
   "execution_count": 3,
   "metadata": {},
   "outputs": [
    {
     "data": {
      "image/png": "[encoded data removed]",
      "text/plain": [
       "<Figure size 432x288 with 1 Axes>"
      ]
     },
     "metadata": {
      "needs_background": "light"
     },
     "output_type": "display_data"
    }
   ],
   "source": [
    "plt.plot(x0, x1, 'rx')\n",
    "plt.ylabel('x0')\n",
    "plt.xlabel('x1')\n",
    "plt.show()"
   ]
  },
  {
   "cell_type": "code",
   "execution_count": 4,
   "metadata": {},
   "outputs": [],
   "source": [
    "m = len(y)\n",
    "theta = np.zeros(28, dtype=np.float32)\n",
    "iterations = 1500\n",
    "alpha = 0.01\n"
   ]
  },
  {
   "cell_type": "code",
   "execution_count": 7,
   "metadata": {},
   "outputs": [
    {
     "data": {
      "text/plain": [
       "(118, 28)"
      ]
     },
     "execution_count": 7,
     "metadata": {},
     "output_type": "execute_result"
    }
   ],
   "source": [
    "X = np.ones(m)[:, np.newaxis]\n",
    "for i in range(1, 7):\n",
    "    for j in range(i+1):\n",
    "        X = np.hstack((X, np.multiply(np.power(x0, i-j), np.power(x1, j))[:, np.newaxis]))    \n",
    "X.shape"
   ]
  },
  {
   "cell_type": "code",
   "execution_count": 8,
   "metadata": {},
   "outputs": [],
   "source": [
    "def cost_function(X, y, theta):\n",
    "    h = 1/(1 + np.exp(-X.dot(theta)))\n",
    "    cost_1 = np.log(h)\n",
    "    cost_2 = np.array([np.log(1-i) for i in h])\n",
    "    summ = y.dot(cost_1) + np.array([1-i for i in y]).dot(cost_2)\n",
    "    return -summ/m"
   ]
  },
  {
   "cell_type": "code",
   "execution_count": 9,
   "metadata": {},
   "outputs": [
    {
     "name": "stdout",
     "output_type": "stream",
     "text": [
      "0.6931471805599453\n"
     ]
    }
   ],
   "source": [
    "print(cost_function(X, y, theta))"
   ]
  },
  {
   "cell_type": "code",
   "execution_count": 125,
   "metadata": {},
   "outputs": [],
   "source": [
    "j_history = np.array([0 for _ in range(iterations)], dtype=np.float32)\n",
    "for i in range(iterations):    \n",
    "    temp = [0 for _ in range(28)]\n",
    "    for j in range(28):\n",
    "        h = 1/(1 + np.exp(-X.dot(theta)))\n",
    "        if j == 0:\n",
    "            l = 0\n",
    "        else:\n",
    "            l = 0.1\n",
    "        temp[j] = theta[j] - ((alpha/m) * np.sum((h-y) * np.array(X[:, j]))) - theta[j]*alpha*l/m\n",
    "    theta = temp\n",
    "    j_history[i] = cost_function(X, y, theta)"
   ]
  },
  {
   "cell_type": "code",
   "execution_count": 126,
   "metadata": {},
   "outputs": [
    {
     "name": "stdout",
     "output_type": "stream",
     "text": [
      "[1.6063092708160271, 0.9333993034499881, 1.6488677421611961, -2.627263499280685, -1.3592051748726717, -1.8599282619767945, 0.24423751613795966, -0.5455239728530499, -0.5174060805660324, -0.19860328593917997, -1.965491661309617, -0.08980715370697875, -0.8550347432143777, -0.4253159624811011, -1.610637009075215, -0.2984713644485361, -0.3072131982794255, -0.05787074471487132, -0.3997533614324196, -0.443504522136433, -0.5953086199306414, -1.4290644138797064, 0.029441899863362715, -0.40834037557725567, 0.015031086676065085, -0.4615129184148737, -0.2341448663223125, -1.2577058810706998]\n"
     ]
    }
   ],
   "source": [
    "print(theta)"
   ]
  },
  {
   "cell_type": "code",
   "execution_count": 134,
   "metadata": {},
   "outputs": [
    {
     "name": "stdout",
     "output_type": "stream",
     "text": [
      "81.35593220338984\n"
     ]
    }
   ],
   "source": [
    "p = [1/(1 + np.exp(-X.dot(theta))) >= 0.5]\n",
    "print(np.mean(p==y)*100)"
   ]
  },
  {
   "cell_type": "code",
   "execution_count": 128,
   "metadata": {
    "scrolled": true
   },
   "outputs": [
    {
     "data": {
      "image/png": "[encoded data removed]",
      "text/plain": [
       "<Figure size 432x288 with 1 Axes>"
      ]
     },
     "metadata": {
      "needs_background": "light"
     },
     "output_type": "display_data"
    }
   ],
   "source": [
    "plt.plot(np.arange(0, iterations), j_history)\n",
    "plt.ylabel('J (cost function)')\n",
    "plt.xlabel('Iterations')\n",
    "plt.show()"
   ]
  },
  {
   "cell_type": "code",
   "execution_count": null,
   "metadata": {},
   "outputs": [],
   "source": [
    "X.dot()"
   ]
  }
 ],
 "metadata": {
  "kernelspec": {
   "display_name": "Python 3",
   "language": "python",
   "name": "python3"
  },
  "language_info": {
   "codemirror_mode": {
    "name": "ipython",
    "version": 3
   },
   "file_extension": ".py",
   "mimetype": "text/x-python",
   "name": "python",
   "nbconvert_exporter": "python",
   "pygments_lexer": "ipython3",
   "version": "3.7.3"
  }
 },
 "nbformat": 4,
 "nbformat_minor": 2
}
