{
 "cells": [
  {
   "cell_type": "code",
   "execution_count": 1,
   "metadata": {},
   "outputs": [],
   "source": [
    "import numpy as np\n",
    "import pandas as pd\n",
    "import matplotlib.pyplot as plt"
   ]
  },
  {
   "cell_type": "code",
   "execution_count": 2,
   "metadata": {},
   "outputs": [],
   "source": [
    "ds = pd.read_csv('glass.csv')"
   ]
  },
  {
   "cell_type": "code",
   "execution_count": 3,
   "metadata": {},
   "outputs": [],
   "source": [
    "y = ds['Type'] - 1\n",
    "m = len(y)\n",
    "X = ds.drop('Type', axis=1)"
   ]
  },
  {
   "cell_type": "code",
   "execution_count": 4,
   "metadata": {},
   "outputs": [],
   "source": [
    "# normalize data\n",
    "X = [[(X.iloc[i, j]-X.iloc[:, j].mean())/(X.iloc[:, j].max()-X.iloc[:, j].min()) for j in range(len(X.iloc[i]))] for i in range(m)]\n",
    "X = np.array(X, dtype=np.float64)"
   ]
  },
  {
   "cell_type": "code",
   "execution_count": 5,
   "metadata": {},
   "outputs": [],
   "source": [
    "# one hot encoding\n",
    "labels = np.zeros((m, 7))\n",
    "for i in range(m):\n",
    "    labels[i, y.iloc[i]] = 1"
   ]
  },
  {
   "cell_type": "code",
   "execution_count": 6,
   "metadata": {},
   "outputs": [],
   "source": [
    "def sigmoid(z):\n",
    "    return 1/(1 + np.exp(-z))"
   ]
  },
  {
   "cell_type": "code",
   "execution_count": 7,
   "metadata": {},
   "outputs": [],
   "source": [
    "def sigmoid_der(z):\n",
    "    return sigmoid(z) * (1 - sigmoid(z))"
   ]
  },
  {
   "cell_type": "code",
   "execution_count": 8,
   "metadata": {},
   "outputs": [],
   "source": [
    "def softmax(z):\n",
    "    expZ = np.exp(z)\n",
    "    return expZ / expZ.sum(axis=1, keepdims=True)"
   ]
  },
  {
   "cell_type": "code",
   "execution_count": 9,
   "metadata": {},
   "outputs": [],
   "source": [
    "def cost_function(labels, res):\n",
    "    return np.sum(-labels * np.log(res))"
   ]
  },
  {
   "cell_type": "code",
   "execution_count": 10,
   "metadata": {},
   "outputs": [],
   "source": [
    "hidden_layers = 10\n",
    "labels_count = 7\n",
    "lr = 0.01\n",
    "iterations = 25000\n",
    "j_history = np.array([0 for _ in range(iterations)], dtype=np.float32)"
   ]
  },
  {
   "cell_type": "code",
   "execution_count": 11,
   "metadata": {},
   "outputs": [],
   "source": [
    "w1 = np.random.rand(X.shape[1], hidden_layers)\n",
    "b1 = np.random.rand(hidden_layers)"
   ]
  },
  {
   "cell_type": "code",
   "execution_count": 12,
   "metadata": {},
   "outputs": [],
   "source": [
    "w2 = np.random.rand(hidden_layers, labels_count)\n",
    "b2 = np.random.rand(labels_count)"
   ]
  },
  {
   "cell_type": "code",
   "execution_count": 13,
   "metadata": {},
   "outputs": [],
   "source": [
    "for i in range(iterations):\n",
    "    # feed forward\n",
    "    zh = np.dot(X, w1) + b1\n",
    "    layerh = sigmoid(zh)\n",
    "    layer0 = softmax(np.dot(layerh, w2) + b2)\n",
    "    \n",
    "    # back propagation\n",
    "    tmp = layer0 - labels\n",
    "    tmp1 = np.dot(tmp, w2.T)\n",
    "    \n",
    "    w2 -= np.dot(layerh.T, tmp) * lr\n",
    "    w1 -= np.dot(X.T, sigmoid(zh) * tmp1) * lr\n",
    "    \n",
    "    b2 -= tmp.sum(axis=0) * lr\n",
    "    b1 -= (tmp1 * sigmoid(zh)).sum(axis=0) * lr\n",
    "    \n",
    "    j_history[i] = cost_function(labels, layer0)"
   ]
  },
  {
   "cell_type": "code",
   "execution_count": 14,
   "metadata": {},
   "outputs": [
    {
     "data": {
      "image/png": "[encoded data removed]",
      "text/plain": [
       "<Figure size 432x288 with 1 Axes>"
      ]
     },
     "metadata": {
      "needs_background": "light"
     },
     "output_type": "display_data"
    }
   ],
   "source": [
    "plt.plot(np.arange(0, iterations), j_history)\n",
    "plt.ylabel('J (cost function)')\n",
    "plt.xlabel('Iterations')\n",
    "plt.show()"
   ]
  },
  {
   "cell_type": "code",
   "execution_count": 15,
   "metadata": {},
   "outputs": [],
   "source": [
    "# feed forward\n",
    "zh = np.dot(X, w1) + b1\n",
    "layerh = sigmoid(zh)\n",
    "layer0 = softmax(np.dot(layerh, w2) + b2)"
   ]
  },
  {
   "cell_type": "code",
   "execution_count": 16,
   "metadata": {},
   "outputs": [
    {
     "name": "stdout",
     "output_type": "stream",
     "text": [
      "[[-218.4271708  -593.09956181  221.36542869 -104.00925996  -22.53400992\n",
      "   157.25275204  -47.06297172 -159.18197903  139.03743863 -210.60325184]\n",
      " [-119.21364332   82.07037245   46.63927777    2.12765788   22.8343022\n",
      "  -419.30358466  720.81902322  290.58049045 -459.83438773   -5.5500903 ]\n",
      " [ -76.2210679   203.52363429  104.59099751 -239.11249594  181.2206369\n",
      "  -116.44724023 -273.06637862 -210.59256541  -99.67463857  367.06899116]\n",
      " [ 363.16054563 -414.41361384  -60.19855433  201.87440487 -119.17560895\n",
      "   298.04685683  108.73522616  289.70163895  144.15932364  316.50202738]\n",
      " [-257.65294975  -59.94067539   -4.89148731   -4.53839059  119.87945048\n",
      "  -458.3667878    57.50684843  -75.59713836 -252.65355098 -221.52157972]\n",
      " [ 277.43798906 -360.05921465   28.74434435  169.33027117  -99.23475974\n",
      "   382.85157041 -421.21114476  -14.12388313  301.11829702  138.18434614]\n",
      " [ -35.28872616  268.7408427   -52.45621056 -104.82107922   29.37804564\n",
      "   209.54188721  -74.94304372 -126.63098801  247.32034849 -255.63524023]\n",
      " [  15.1870825  -282.82402304   10.23798865  193.59449832 -115.73303714\n",
      "   -84.40050223  -34.04257715   25.21484519 -118.54776554   70.52239698]\n",
      " [-359.52574922  310.18631379 -100.77793042  -25.11892186 -253.86588149\n",
      "   223.60428638 -193.59152302   18.73644597  228.52677355  -93.10031614]] [[ -2.35596515  -1.04239871  -1.24135394  -0.60550959   4.09875816\n",
      "    4.67517606   0.53173923]\n",
      " [  6.36679581   1.2655727    7.05427334  -0.70456991   3.23354734\n",
      "    2.11049977 -16.74353017]\n",
      " [  2.77222293   1.16256966   0.99384851  -0.38514947  -7.829455\n",
      "   -0.06783485   4.979713  ]\n",
      " [ -1.51579403   2.75468891  -4.13325459   0.13645547   7.3053012\n",
      "   -3.46316892   1.96044138]\n",
      " [  1.65151776   0.9253251    3.1841914   -0.53355213 -12.94433462\n",
      "    6.97436787   3.57481419]\n",
      " [  0.45603002   0.39021529   0.79094335  -0.04617251   6.13174062\n",
      "   -0.95240669  -4.29969963]\n",
      " [ -1.65421333  -1.54949352  -0.69116715   0.20108937  -1.86638175\n",
      "   13.40089515  -3.40888922]\n",
      " [ -2.76066978  -2.5441669    2.09134292  -0.37096983  -1.89553597\n",
      "    5.93647402   1.98143548]\n",
      " [  1.72726113   1.23775006   2.33761003  -0.51942144   6.21019989\n",
      "   -1.46537289  -5.86997316]\n",
      " [  3.53824762   3.60566765   3.65492526   0.17088009   4.28540653\n",
      "  -14.86141207   2.91875667]]\n"
     ]
    }
   ],
   "source": [
    "print(w1, w2)"
   ]
  },
  {
   "cell_type": "code",
   "execution_count": 17,
   "metadata": {},
   "outputs": [
    {
     "name": "stdout",
     "output_type": "stream",
     "text": [
      "73.36448598130842\n"
     ]
    }
   ],
   "source": [
    "result = np.argmax(layer0, axis = 1)\n",
    "print(np.mean(result == y) * 100)"
   ]
  },
  {
   "cell_type": "code",
   "execution_count": null,
   "metadata": {},
   "outputs": [],
   "source": []
  }
 ],
 "metadata": {
  "kernelspec": {
   "display_name": "Python 3",
   "language": "python",
   "name": "python3"
  },
  "language_info": {
   "codemirror_mode": {
    "name": "ipython",
    "version": 3
   },
   "file_extension": ".py",
   "mimetype": "text/x-python",
   "name": "python",
   "nbconvert_exporter": "python",
   "pygments_lexer": "ipython3",
   "version": "3.7.3"
  }
 },
 "nbformat": 4,
 "nbformat_minor": 2
}
