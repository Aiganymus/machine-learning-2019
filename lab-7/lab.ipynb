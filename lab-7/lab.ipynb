{
 "cells": [
  {
   "cell_type": "code",
   "execution_count": 40,
   "metadata": {},
   "outputs": [],
   "source": [
    "import numpy as np\n",
    "import pandas as pd\n",
    "import matplotlib.pyplot as plt"
   ]
  },
  {
   "cell_type": "code",
   "execution_count": 41,
   "metadata": {},
   "outputs": [],
   "source": [
    "ds = pd.read_csv('glass.csv')"
   ]
  },
  {
   "cell_type": "code",
   "execution_count": 42,
   "metadata": {},
   "outputs": [],
   "source": [
    "y = ds['Type'] - 1\n",
    "m = len(y)\n",
    "X = ds.drop('Type', axis=1)"
   ]
  },
  {
   "cell_type": "code",
   "execution_count": 43,
   "metadata": {},
   "outputs": [],
   "source": [
    "# normalize data\n",
    "X = [[(X.iloc[i, j]-X.iloc[:, j].mean())/(X.iloc[:, j].max()-X.iloc[:, j].min()) for j in range(len(X.iloc[i]))] for i in range(m)]\n",
    "X = np.array(X, dtype=np.float64)"
   ]
  },
  {
   "cell_type": "code",
   "execution_count": 44,
   "metadata": {},
   "outputs": [],
   "source": [
    "# one hot encoding\n",
    "labels = np.zeros((m, 7))\n",
    "for i in range(m):\n",
    "    labels[i, y.iloc[i]] = 1"
   ]
  },
  {
   "cell_type": "code",
   "execution_count": 45,
   "metadata": {},
   "outputs": [],
   "source": [
    "def sigmoid(z):\n",
    "    return 1/(1 + np.exp(-z))"
   ]
  },
  {
   "cell_type": "code",
   "execution_count": 46,
   "metadata": {},
   "outputs": [],
   "source": [
    "def sigmoid_der(z):\n",
    "    return sigmoid(z) * (1 - sigmoid(z))"
   ]
  },
  {
   "cell_type": "code",
   "execution_count": 47,
   "metadata": {},
   "outputs": [],
   "source": [
    "def softmax(z):\n",
    "    expZ = np.exp(z)\n",
    "    return expZ / expZ.sum(axis=1, keepdims=True)"
   ]
  },
  {
   "cell_type": "code",
   "execution_count": 48,
   "metadata": {},
   "outputs": [],
   "source": [
    "def cost_function(labels, res):\n",
    "    return np.sum(-labels * np.log(res))"
   ]
  },
  {
   "cell_type": "code",
   "execution_count": 63,
   "metadata": {},
   "outputs": [],
   "source": [
    "hidden_layers = 10\n",
    "labels_count = 7\n",
    "lr = 0.01\n",
    "iterations = 25000\n",
    "j_history = np.array([0 for _ in range(iterations)], dtype=np.float32)"
   ]
  },
  {
   "cell_type": "code",
   "execution_count": 64,
   "metadata": {},
   "outputs": [],
   "source": [
    "w1 = np.random.rand(X.shape[1], hidden_layers)\n",
    "b1 = np.random.rand(hidden_layers)"
   ]
  },
  {
   "cell_type": "code",
   "execution_count": 65,
   "metadata": {},
   "outputs": [],
   "source": [
    "w2 = np.random.rand(hidden_layers, labels_count)\n",
    "b2 = np.random.rand(labels_count)"
   ]
  },
  {
   "cell_type": "code",
   "execution_count": 66,
   "metadata": {},
   "outputs": [],
   "source": [
    "for i in range(iterations):\n",
    "    # feed forward\n",
    "    zh = np.dot(X, w1) + b1\n",
    "    layerh = sigmoid(zh)\n",
    "    layer0 = softmax(np.dot(layerh, w2) + b2)\n",
    "    \n",
    "    # back propagation\n",
    "    tmp = layer0 - labels\n",
    "    tmp1 = np.dot(tmp, w2.T)\n",
    "    \n",
    "    w2 -= np.dot(layerh.T, tmp) * lr\n",
    "    w1 -= np.dot(X.T, sigmoid(zh) * tmp1) * lr\n",
    "    \n",
    "    b2 -= tmp.sum(axis=0) * lr\n",
    "    b1 -= (tmp1 * sigmoid(zh)).sum(axis=0) * lr\n",
    "    \n",
    "    j_history[i] = cost_function(labels, layer0)"
   ]
  },
  {
   "cell_type": "code",
   "execution_count": 67,
   "metadata": {},
   "outputs": [
    {
     "data": {
      "image/png": "[encoded data removed]",
      "text/plain": [
       "<Figure size 432x288 with 1 Axes>"
      ]
     },
     "metadata": {
      "needs_background": "light"
     },
     "output_type": "display_data"
    }
   ],
   "source": [
    "plt.plot(np.arange(0, iterations), j_history)\n",
    "plt.ylabel('J (cost function)')\n",
    "plt.xlabel('Iterations')\n",
    "plt.show()"
   ]
  },
  {
   "cell_type": "code",
   "execution_count": 68,
   "metadata": {},
   "outputs": [],
   "source": [
    "# feed forward\n",
    "zh = np.dot(X, w1) + b1\n",
    "layerh = sigmoid(zh)\n",
    "layer0 = softmax(np.dot(layerh, w2) + b2)"
   ]
  },
  {
   "cell_type": "code",
   "execution_count": 74,
   "metadata": {},
   "outputs": [
    {
     "name": "stdout",
     "output_type": "stream",
     "text": [
      "[[ 351.26177538 -112.08812661 -252.15217593 -121.90077321  259.01415655\n",
      "   267.75978379 -108.24935821 -382.98119469  188.40525075 -149.15645897]\n",
      " [-487.97130447    4.46709897   68.2730767   181.01168479 -502.76394012\n",
      "   161.37469906  171.06286746  419.24013855  321.74289822 -255.44562412]\n",
      " [-335.64979173 -152.3199484  -313.41282863   40.92822828 -162.97509512\n",
      "   150.16530861  317.264304     -9.96187793 -470.97762813  394.94078627]\n",
      " [-159.60132653  204.59692701  431.61253262 -130.33658306  -59.70201476\n",
      "  -191.05631589 -444.19174431  -53.73130515   38.81811557  604.15155805]\n",
      " [-120.18631718  -91.7657863  -210.44702762    7.32031733 -144.89976153\n",
      "  -247.59032046  248.37448968  510.24058544  225.98286054    1.90773561]\n",
      " [-288.47108764  -29.39411931  301.05656065 -104.31675764   51.49676248\n",
      "    -7.74180655 -284.98282039 -122.55157673  -13.68959315  304.90434289]\n",
      " [ 700.94222711   98.36367332 -126.33040589   26.8023307   412.12504576\n",
      "    45.89207989   84.93701707 -401.67861057  -96.35625381 -363.18531112]\n",
      " [ -63.62140304 -161.82060525   97.17666552 -141.18846617   82.67425353\n",
      "    11.06219926 -129.68454224   28.78806387   30.16533467  -54.05535849]\n",
      " [ 147.72327883 -272.27954591 -326.53636665  -34.14269911  287.4908074\n",
      "    38.1600712  -313.95666012 -182.91563991 -138.47126138  123.08648551]] [[-1.39928444e+00 -8.38485105e-01 -2.86308655e+00  1.42667961e-01\n",
      "   8.30661143e+00  3.66820573e+00 -2.89771444e+00]\n",
      " [-2.75544092e-01  9.16190677e-02  1.46560149e+00  2.21617795e-01\n",
      "   4.64417790e-02  5.32621385e+00 -3.99665259e+00]\n",
      " [-2.78923864e+00 -1.13445296e+00 -1.99556831e+00 -4.84575805e-01\n",
      "   9.24796647e+00 -3.35866903e-01 -3.96246361e-02]\n",
      " [ 4.08240269e+00  4.22486754e+00  2.95807128e+00 -5.45306180e-01\n",
      "  -5.46635638e+00  6.73988596e+00 -8.37622249e+00]\n",
      " [ 4.39980973e+00  4.36984094e+00  4.00851477e+00  1.07252255e-01\n",
      "   1.19739238e+00 -3.38660254e+00 -6.59831604e+00]\n",
      " [ 3.53316930e+00  2.88885553e+00  4.91401946e+00 -7.51750265e-03\n",
      "  -1.09581030e+01 -5.73644636e-01  4.16475385e+00]\n",
      " [ 4.42207103e+00  3.31503201e+00  4.22287856e+00 -2.47155304e-01\n",
      "  -7.18859474e+00  4.06657853e-01 -7.15033403e-01]\n",
      " [ 1.97473875e-01 -8.78943421e-01 -3.28096671e-01 -5.60201406e-01\n",
      "  -1.18918287e+01  1.23003850e+01  4.99304772e+00]\n",
      " [-1.11826826e+00  1.65307242e+00 -7.14173138e+00 -5.14711086e-01\n",
      "   1.87747450e+00  2.32996372e+00  6.39781087e+00]\n",
      " [ 4.23018977e+00  6.57030794e+00  3.43201741e+00 -5.30088281e-01\n",
      "   8.03302306e+00 -1.27489932e+01 -5.80982177e+00]]\n"
     ]
    }
   ],
   "source": [
    "print(w1, w2)"
   ]
  },
  {
   "cell_type": "code",
   "execution_count": 77,
   "metadata": {},
   "outputs": [
    {
     "name": "stdout",
     "output_type": "stream",
     "text": [
      "73.36448598130842\n"
     ]
    }
   ],
   "source": [
    "result = np.argmax(layer0, axis = 1)\n",
    "print(np.mean(result == y) * 100)"
   ]
  }
 ],
 "metadata": {
  "kernelspec": {
   "display_name": "Python 3",
   "language": "python",
   "name": "python3"
  },
  "language_info": {
   "codemirror_mode": {
    "name": "ipython",
    "version": 3
   },
   "file_extension": ".py",
   "mimetype": "text/x-python",
   "name": "python",
   "nbconvert_exporter": "python",
   "pygments_lexer": "ipython3",
   "version": "3.7.3"
  }
 },
 "nbformat": 4,
 "nbformat_minor": 2
}
